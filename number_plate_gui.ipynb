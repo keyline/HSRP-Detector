{
 "cells": [
  {
   "cell_type": "code",
   "execution_count": 1,
   "id": "4977541d-23ab-447a-8dfb-d021c81338b6",
   "metadata": {},
   "outputs": [],
   "source": [
    "import tkinter as tk\n",
    "from tkinter import filedialog, Label, Button\n",
    "from models_utils import *\n",
    "from tkinter import filedialog, Label, Button, PhotoImage, Frame\n",
    "from tkinter.font import Font\n",
    "import os"
   ]
  },
  {
   "cell_type": "code",
   "execution_count": 8,
   "id": "71e665ad-16a9-4c62-8853-f8e89c9e7831",
   "metadata": {},
   "outputs": [],
   "source": [
    "#Designing of the GUI"
   ]
  },
  {
   "cell_type": "code",
   "execution_count": 4,
   "id": "1cf3c101-5908-423a-b8fe-a10dc25b7d4e",
   "metadata": {},
   "outputs": [],
   "source": [
    "class NumberPlateApp:\n",
    "    def __init__(self, root):\n",
    "        self.root = root\n",
    "        self.root.title(\"Number Plate Classification\")\n",
    "        self.root.geometry(\"600x400\")\n",
    "        self.root.configure(bg=\"#f0f0f0\")\n",
    "        \n",
    "        self.model = load_model('number_plate_model.pth')\n",
    "        \n",
    "        self.custom_font = Font(family=\"Helvetica\", size=12, weight=\"bold\")\n",
    "        \n",
    "        self.create_widgets()\n",
    "\n",
    "    def create_widgets(self):\n",
    "        header_frame = Frame(self.root, bg=\"#283593\", height=100)\n",
    "        header_frame.pack(fill='x')\n",
    "\n",
    "        logo_path = \"logo.png\"  # Use a sample valid image file for testing\n",
    "        if os.path.isfile(logo_path):\n",
    "            try:\n",
    "                self.logo = PhotoImage(file=logo_path)\n",
    "                logo_label = Label(header_frame, image=self.logo, bg=\"#283593\")\n",
    "                logo_label.pack(side=\"left\", padx=10, pady=10)\n",
    "            except tk.TclError as e:\n",
    "                print(f\"Failed to load logo image: {e}\")\n",
    "        else:\n",
    "            print(\"Logo image not found. Please ensure the logo image path is correct.\")\n",
    "\n",
    "        header_label = Label(header_frame, text=\"Number Plate Classification\", font=(\"Helvetica\", 20, \"bold\"), bg=\"#283593\", fg=\"white\")\n",
    "        header_label.pack(side=\"left\", padx=10)\n",
    "\n",
    "        main_frame = Frame(self.root, bg=\"#f0f0f0\")\n",
    "        main_frame.pack(fill=\"both\", expand=True, padx=20, pady=20)\n",
    "\n",
    "        self.label = Label(main_frame, text=\"Select an image to classify:\", font=self.custom_font, bg=\"#f0f0f0\")\n",
    "        self.label.pack(pady=10)\n",
    "        \n",
    "        self.select_button = Button(main_frame, text=\"Select Image\", command=self.select_image, font=self.custom_font, bg=\"#1976D2\", fg=\"white\", width=20)\n",
    "        self.select_button.pack(pady=10)\n",
    "        \n",
    "        self.result_label = Label(main_frame, text=\"\", font=self.custom_font, bg=\"#f0f0f0\")\n",
    "        self.result_label.pack(pady=10)\n",
    "    \n",
    "    def select_image(self):\n",
    "        file_path = filedialog.askopenfilename()\n",
    "        if file_path:\n",
    "            try:\n",
    "                result = predict(file_path, self.model)\n",
    "                self.result_label.config(text=f\"The image is {result}.\", fg=\"#388E3C\" if result == \"accepted\" else \"#D32F2F\")\n",
    "            except FileNotFoundError as e:\n",
    "                self.result_label.config(text=str(e), fg=\"#D32F2F\")"
   ]
  },
  {
   "cell_type": "code",
   "execution_count": 10,
   "id": "dafd44a2-7963-49ff-84a0-c84a8e3b0cbb",
   "metadata": {},
   "outputs": [],
   "source": [
    "#Run the main file"
   ]
  },
  {
   "cell_type": "code",
   "execution_count": 3,
   "id": "5e777a24-db4a-4128-94be-8925b1019cd6",
   "metadata": {},
   "outputs": [],
   "source": [
    "if __name__ == \"__main__\":\n",
    "    root = tk.Tk()\n",
    "    app = NumberPlateApp(root)\n",
    "    root.mainloop()"
   ]
  },
  {
   "cell_type": "code",
   "execution_count": null,
   "id": "f21b9a70-20de-44d2-ac0f-dbc24a0f6fdd",
   "metadata": {},
   "outputs": [],
   "source": []
  }
 ],
 "metadata": {
  "kernelspec": {
   "display_name": "Python 3 (ipykernel)",
   "language": "python",
   "name": "python3"
  },
  "language_info": {
   "codemirror_mode": {
    "name": "ipython",
    "version": 3
   },
   "file_extension": ".py",
   "mimetype": "text/x-python",
   "name": "python",
   "nbconvert_exporter": "python",
   "pygments_lexer": "ipython3",
   "version": "3.11.5"
  }
 },
 "nbformat": 4,
 "nbformat_minor": 5
}
