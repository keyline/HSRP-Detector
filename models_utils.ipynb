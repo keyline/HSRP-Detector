{
 "cells": [
  {
   "cell_type": "code",
   "execution_count": 6,
   "id": "2d803921-9857-46b0-84b5-9e77f6a1ae4d",
   "metadata": {},
   "outputs": [],
   "source": [
    "import torch\n",
    "import cv2\n",
    "from torchvision import transforms\n",
    "import torch.nn as nn\n",
    "import torch.nn.functional as F\n",
    "import tkinter as tk\n",
    "from tkinter import filedialog, Label, Button, PhotoImage, Frame\n",
    "from tkinter.font import Font\n",
    "import os"
   ]
  },
  {
   "cell_type": "code",
   "execution_count": 7,
   "id": "c2e788c1-28f2-4333-9c22-aa64390e9a01",
   "metadata": {},
   "outputs": [],
   "source": [
    "class CNNModel(nn.Module):\n",
    "    def __init__(self):\n",
    "        super(CNNModel, self).__init__()\n",
    "        self.conv1 = nn.Conv2d(3, 32, 3, padding=1)\n",
    "        self.pool = nn.MaxPool2d(2, 2)\n",
    "        self.conv2 = nn.Conv2d(32, 64, 3, padding=1)\n",
    "        self.conv3 = nn.Conv2d(64, 128, 3, padding=1)\n",
    "        self.fc1 = nn.Linear(128 * 16 * 16, 128)\n",
    "        self.dropout = nn.Dropout(0.5)\n",
    "        self.fc2 = nn.Linear(128, 1)\n",
    "    \n",
    "    def forward(self, x):\n",
    "        x = self.pool(F.relu(self.conv1(x)))\n",
    "        x = self.pool(F.relu(self.conv2(x)))\n",
    "        x = self.pool(F.relu(self.conv3(x)))\n",
    "        x = x.view(-1, 128 * 16 * 16)\n",
    "        x = F.relu(self.fc1(x))\n",
    "        x = self.dropout(x)\n",
    "        x = torch.sigmoid(self.fc2(x))\n",
    "        return x"
   ]
  },
  {
   "cell_type": "markdown",
   "id": "705b0d21-b316-4284-a245-0be970d9abbc",
   "metadata": {},
   "source": [
    "<h3> Loading the Model\n",
    "Create a function to load the model:</h3>"
   ]
  },
  {
   "cell_type": "code",
   "execution_count": 3,
   "id": "b10f201b-2f1f-4e2e-9bf4-29913b139839",
   "metadata": {},
   "outputs": [],
   "source": [
    "def load_model(model_path):\n",
    "    model = CNNModel()\n",
    "    model.load_state_dict(torch.load(model_path))\n",
    "    model.eval()\n",
    "    return model\n",
    "\n"
   ]
  },
  {
   "cell_type": "markdown",
   "id": "de6dc7b9-b603-46d4-8254-4756b4069151",
   "metadata": {},
   "source": [
    "<h3> Preprocessing the Input Image\n",
    "Create a function to preprocess the input image:</h3>"
   ]
  },
  {
   "cell_type": "code",
   "execution_count": 4,
   "id": "dca4970f-bc23-4233-a9fc-561f67e9645a",
   "metadata": {},
   "outputs": [],
   "source": [
    "def preprocess_image(image_path):\n",
    "    transform = transforms.Compose([\n",
    "        transforms.ToPILImage(),\n",
    "        transforms.Resize((128, 128)),\n",
    "        transforms.ToTensor(),\n",
    "        transforms.Normalize((0.5,), (0.5,))\n",
    "    ])\n",
    "    \n",
    "    image = cv2.imread(image_path)\n",
    "    if image is None:\n",
    "        raise FileNotFoundError(f\"Image not found at {image_path}\")\n",
    "    \n",
    "    image = cv2.cvtColor(image, cv2.COLOR_BGR2RGB)\n",
    "    image = transform(image)\n",
    "    image = image.unsqueeze(0)  # Add batch dimension\n",
    "    return image"
   ]
  },
  {
   "cell_type": "markdown",
   "id": "4e7efb23-e533-4d4d-99ca-6d45c56b7acf",
   "metadata": {},
   "source": [
    "<h3>Making a Prediction\n",
    "Create a function to make a prediction and interpret the result:</h3>"
   ]
  },
  {
   "cell_type": "code",
   "execution_count": 5,
   "id": "c985a3dc-76f3-4d4d-a856-e023f6248c52",
   "metadata": {},
   "outputs": [],
   "source": [
    "def predict(image_path, model):\n",
    "    image = preprocess_image(image_path)\n",
    "    with torch.no_grad():\n",
    "        output = model(image)\n",
    "        prediction = (output > 0.5).float()\n",
    "        return 'accepted' if prediction.item() == 1.0 else 'rejected'"
   ]
  },
  {
   "cell_type": "code",
   "execution_count": null,
   "id": "86055840-f1bf-439e-8dd1-1bfb9da60727",
   "metadata": {},
   "outputs": [],
   "source": []
  }
 ],
 "metadata": {
  "kernelspec": {
   "display_name": "Python 3 (ipykernel)",
   "language": "python",
   "name": "python3"
  },
  "language_info": {
   "codemirror_mode": {
    "name": "ipython",
    "version": 3
   },
   "file_extension": ".py",
   "mimetype": "text/x-python",
   "name": "python",
   "nbconvert_exporter": "python",
   "pygments_lexer": "ipython3",
   "version": "3.9.19"
  }
 },
 "nbformat": 4,
 "nbformat_minor": 5
}
