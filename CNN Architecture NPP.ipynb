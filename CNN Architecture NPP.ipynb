{
 "cells": [
  {
   "cell_type": "markdown",
   "id": "3bb78a0a-0841-4756-89a2-8e56374b96bd",
   "metadata": {},
   "source": [
    "<h3>1. Data Loading and Preprocessing\n",
    "First, let's load the images from the folders and preprocess them.</h3>"
   ]
  },
  {
   "cell_type": "code",
   "execution_count": 1,
   "id": "15550563-609b-4a2f-98f8-71162cf4dac1",
   "metadata": {},
   "outputs": [],
   "source": [
    "import os\n",
    "import cv2\n",
    "import numpy as np\n",
    "from sklearn.model_selection import train_test_split\n",
    "import torch\n",
    "from torch.utils.data import Dataset, DataLoader\n",
    "from torchvision import transforms\n",
    "import torch.nn as nn\n",
    "import torch.nn.functional as F\n",
    "import torch.optim as optim\n",
    "\n"
   ]
  },
  {
   "cell_type": "code",
   "execution_count": 4,
   "id": "e2b0f4bd-c949-437a-a669-224ffa4f938b",
   "metadata": {},
   "outputs": [],
   "source": [
    "class NumberPlateDataset(Dataset):\n",
    "    def __init__(self, accepted_dir, rejected_dir, transform=None):\n",
    "        self.images = []\n",
    "        self.labels = []\n",
    "        self.transform = transform\n",
    "        \n",
    "        # Load accepted images\n",
    "        for img_name in os.listdir(accepted_dir):\n",
    "            img_path = os.path.join(accepted_dir, img_name)\n",
    "            image = cv2.imread(img_path)\n",
    "            if image is not None:\n",
    "                self.images.append(image)\n",
    "                self.labels.append(1)  # Label for accepted images\n",
    "\n",
    "        # Load rejected images\n",
    "        for img_name in os.listdir(rejected_dir):\n",
    "            img_path = os.path.join(rejected_dir, img_name)\n",
    "            image = cv2.imread(img_path)\n",
    "            if image is not None:\n",
    "                self.images.append(image)\n",
    "                self.labels.append(0)  # Label for rejected images\n",
    "\n",
    "    def __len__(self):\n",
    "        return len(self.images)\n",
    "\n",
    "    def __getitem__(self, idx):\n",
    "        image = self.images[idx]\n",
    "        label = self.labels[idx]\n",
    "        if self.transform:\n",
    "            image = self.transform(image)\n",
    "        return image, label"
   ]
  },
  {
   "cell_type": "code",
   "execution_count": 5,
   "id": "e7b011e8-2277-47cf-88a7-e077e86e9da0",
   "metadata": {},
   "outputs": [],
   "source": [
    "# Paths to your data directories\n",
    "accepted_dir = 'HSRP APPROVED\\HSRP APPROVED'\n",
    "rejected_dir = 'hsrp reject\\hsrp reject'\n",
    "\n",
    "# Transformations for the dataset\n",
    "transform = transforms.Compose([\n",
    "    transforms.ToPILImage(),\n",
    "    transforms.Resize((128, 128)),\n",
    "    transforms.ToTensor(),\n",
    "    transforms.Normalize((0.5,), (0.5,))\n",
    "])\n"
   ]
  },
  {
   "cell_type": "code",
   "execution_count": 6,
   "id": "4795871e-9cd3-4109-8aad-4bff5af21788",
   "metadata": {},
   "outputs": [],
   "source": [
    "\n",
    "# Create the dataset\n",
    "dataset = NumberPlateDataset(accepted_dir, rejected_dir, transform=transform)\n",
    "\n",
    "# Split the dataset into training and testing sets\n",
    "train_size = int(0.8 * len(dataset))\n",
    "test_size = len(dataset) - train_size\n",
    "train_dataset, test_dataset = torch.utils.data.random_split(dataset, [train_size, test_size])\n",
    "\n",
    "# Create data loaders\n",
    "train_loader = DataLoader(train_dataset, batch_size=32, shuffle=True)\n",
    "test_loader = DataLoader(test_dataset, batch_size=32, shuffle=False)\n"
   ]
  },
  {
   "cell_type": "markdown",
   "id": "dd92fdb4-d419-46ca-9ca6-2f12e5c8ee48",
   "metadata": {},
   "source": [
    "<h3>2. Model Definition\n",
    "Define a CNN model for the classification task using PyTorch.</h3>"
   ]
  },
  {
   "cell_type": "code",
   "execution_count": 7,
   "id": "eec7b650-5010-432a-93d4-211690bcae7d",
   "metadata": {},
   "outputs": [],
   "source": [
    "\n",
    "class CNNModel(nn.Module):\n",
    "    def __init__(self):\n",
    "        super(CNNModel, self).__init__()\n",
    "        self.conv1 = nn.Conv2d(3, 32, 3, padding=1)\n",
    "        self.pool = nn.MaxPool2d(2, 2)\n",
    "        self.conv2 = nn.Conv2d(32, 64, 3, padding=1)\n",
    "        self.conv3 = nn.Conv2d(64, 128, 3, padding=1)\n",
    "        self.fc1 = nn.Linear(128 * 16 * 16, 128)\n",
    "        self.dropout = nn.Dropout(0.5)\n",
    "        self.fc2 = nn.Linear(128, 1)\n",
    "    \n",
    "    def forward(self, x):\n",
    "        x = self.pool(F.relu(self.conv1(x)))\n",
    "        x = self.pool(F.relu(self.conv2(x)))\n",
    "        x = self.pool(F.relu(self.conv3(x)))\n",
    "        x = x.view(-1, 128 * 16 * 16)\n",
    "        x = F.relu(self.fc1(x))\n",
    "        x = self.dropout(x)\n",
    "        x = torch.sigmoid(self.fc2(x))\n",
    "        return x\n",
    "\n",
    "# Instantiate the model\n",
    "model = CNNModel()\n"
   ]
  },
  {
   "cell_type": "markdown",
   "id": "76e6949a-faff-48dc-abd8-cac63721da62",
   "metadata": {},
   "source": [
    "<h3>3. Training\n",
    "Train the model using the training data.</h3>"
   ]
  },
  {
   "cell_type": "code",
   "execution_count": 8,
   "id": "cda89632-d737-4044-a3cd-54c4562d4f55",
   "metadata": {},
   "outputs": [
    {
     "name": "stdout",
     "output_type": "stream",
     "text": [
      "Epoch 1/20, Loss: 0.6961309512456259\n",
      "Epoch 2/20, Loss: 0.5270646810531616\n",
      "Epoch 3/20, Loss: 0.3927823454141617\n",
      "Epoch 4/20, Loss: 0.40101880331834155\n",
      "Epoch 5/20, Loss: 0.3882383902867635\n",
      "Epoch 6/20, Loss: 0.2948625832796097\n",
      "Epoch 7/20, Loss: 0.298771175245444\n",
      "Epoch 8/20, Loss: 0.19134412333369255\n",
      "Epoch 9/20, Loss: 0.20377719402313232\n",
      "Epoch 10/20, Loss: 0.12861181050539017\n",
      "Epoch 11/20, Loss: 0.1096373920639356\n",
      "Epoch 12/20, Loss: 0.11415357763568561\n",
      "Epoch 13/20, Loss: 0.10622553341090679\n",
      "Epoch 14/20, Loss: 0.06428434420377016\n",
      "Epoch 15/20, Loss: 0.05704801777998606\n",
      "Epoch 16/20, Loss: 0.04517635672042767\n",
      "Epoch 17/20, Loss: 0.015106623492708119\n",
      "Epoch 18/20, Loss: 0.011195477660900602\n",
      "Epoch 19/20, Loss: 0.012798331794328988\n",
      "Epoch 20/20, Loss: 0.0046305050879406435\n"
     ]
    }
   ],
   "source": [
    "\n",
    "# Loss function and optimizer\n",
    "criterion = nn.BCELoss()\n",
    "optimizer = optim.Adam(model.parameters(), lr=0.001)\n",
    "\n",
    "# Training loop\n",
    "num_epochs = 20\n",
    "for epoch in range(num_epochs):\n",
    "    model.train()\n",
    "    running_loss = 0.0\n",
    "    for images, labels in train_loader:\n",
    "        labels = labels.view(-1, 1).float()\n",
    "        optimizer.zero_grad()\n",
    "        outputs = model(images)\n",
    "        loss = criterion(outputs, labels)\n",
    "        loss.backward()\n",
    "        optimizer.step()\n",
    "        running_loss += loss.item()\n",
    "    \n",
    "    print(f\"Epoch {epoch+1}/{num_epochs}, Loss: {running_loss/len(train_loader)}\")\n"
   ]
  },
  {
   "cell_type": "markdown",
   "id": "931bcb71-a234-4ea5-afd0-0067187b204c",
   "metadata": {},
   "source": [
    "4. Evaluation\n",
    "Evaluate the model using the test data."
   ]
  },
  {
   "cell_type": "code",
   "execution_count": 9,
   "id": "c6390ecd-4679-453a-950b-41ae4bfcf480",
   "metadata": {},
   "outputs": [
    {
     "name": "stdout",
     "output_type": "stream",
     "text": [
      "Test Accuracy: 83.72%\n"
     ]
    }
   ],
   "source": [
    "# Evaluation\n",
    "model.eval()\n",
    "correct = 0\n",
    "total = 0\n",
    "with torch.no_grad():\n",
    "    for images, labels in test_loader:\n",
    "        labels = labels.view(-1, 1).float()\n",
    "        outputs = model(images)\n",
    "        predicted = (outputs > 0.5).float()\n",
    "        total += labels.size(0)\n",
    "        correct += (predicted == labels).sum().item()\n",
    "\n",
    "print(f\"Test Accuracy: {100 * correct / total:.2f}%\")\n"
   ]
  },
  {
   "cell_type": "markdown",
   "id": "82888d14-6113-4380-a0c7-4ebb6cc3d0f2",
   "metadata": {},
   "source": [
    "<h3>Saving the Model<br>\n",
    "Add the following lines at the end of your training script to save the model:</h3>"
   ]
  },
  {
   "cell_type": "code",
   "execution_count": 10,
   "id": "026a2f30-1b19-437c-b939-b4bfa05ee978",
   "metadata": {},
   "outputs": [],
   "source": [
    "# Save the model\n",
    "torch.save(model.state_dict(), 'number_plate_model.pth')\n"
   ]
  },
  {
   "cell_type": "markdown",
   "id": "1df274a5-8a31-4cb4-aba2-e5bc44b68cc3",
   "metadata": {},
   "source": [
    "<h3>For Detecting the color:</h3>"
   ]
  },
  {
   "cell_type": "code",
   "execution_count": null,
   "id": "c6ee7a83-12fe-443e-8194-95f898064f3d",
   "metadata": {},
   "outputs": [],
   "source": []
  }
 ],
 "metadata": {
  "kernelspec": {
   "display_name": "Python 3 (ipykernel)",
   "language": "python",
   "name": "python3"
  },
  "language_info": {
   "codemirror_mode": {
    "name": "ipython",
    "version": 3
   },
   "file_extension": ".py",
   "mimetype": "text/x-python",
   "name": "python",
   "nbconvert_exporter": "python",
   "pygments_lexer": "ipython3",
   "version": "3.11.5"
  }
 },
 "nbformat": 4,
 "nbformat_minor": 5
}
