{
 "cells": [
  {
   "cell_type": "code",
   "execution_count": 16,
   "id": "f50c23ec-901d-4041-a957-bdef7f7769fc",
   "metadata": {},
   "outputs": [],
   "source": [
    "import cv2\n",
    "import numpy as np\n",
    "\n",
    "def detect_number_plate_color(image_path):\n",
    "    # Read the image\n",
    "    image = cv2.imread(image_path)\n",
    "    \n",
    "    # Convert the image to HSV color space\n",
    "    hsv_image = cv2.cvtColor(image, cv2.COLOR_BGR2HSV)\n",
    "    \n",
    "    # Define the color ranges for white, black, and yellow in HSV\n",
    "    lower_white = np.array([0, 0, 150])\n",
    "    upper_white = np.array([180, 30, 255])\n",
    "    \n",
    "    lower_black = np.array([0, 0, 0])\n",
    "    upper_black = np.array([180, 255, 30])\n",
    "    \n",
    "    lower_yellow = np.array([20, 100, 100])\n",
    "    upper_yellow = np.array([30, 255, 255])\n",
    "    \n",
    "    # Threshold the HSV image to get masks for each color\n",
    "    mask_white = cv2.inRange(hsv_image, lower_white, upper_white)\n",
    "    mask_black = cv2.inRange(hsv_image, lower_black, upper_black)\n",
    "    mask_yellow = cv2.inRange(hsv_image, lower_yellow, upper_yellow)\n",
    "    \n",
    "    # Count the number of non-zero pixels in each mask\n",
    "    white_pixels = cv2.countNonZero(mask_white)\n",
    "    black_pixels = cv2.countNonZero(mask_black)\n",
    "    yellow_pixels = cv2.countNonZero(mask_yellow)\n",
    "    \n",
    "    # Determine the dominant color\n",
    "    max_pixels = max(white_pixels, black_pixels, yellow_pixels)\n",
    "    \n",
    "    if max_pixels == white_pixels:\n",
    "        return \"White\"\n",
    "    elif max_pixels == black_pixels:\n",
    "        return \"Black\"\n",
    "    elif max_pixels == yellow_pixels:\n",
    "        return \"Yellow\"\n",
    "    else:\n",
    "        return \"Unknown\"\n",
    "\n",
    "# Test the function with \"car.jpeg\" image\n",
    "image_path = \"59509d75-77f6-42ab-994c-cbf6a5ad7e73.jpg\"\n",
    "plate_color = detect_number_plate_color(image_path)\n",
    "output = \"Number plate color:\", plate_color\n"
   ]
  },
  {
   "cell_type": "code",
   "execution_count": 17,
   "id": "adc7b6ca-754d-414f-a863-46113dd333c0",
   "metadata": {},
   "outputs": [],
   "source": [
    "import tkinter as tk\n",
    "from tkinter import messagebox\n",
    "\n",
    "def show_alert():\n",
    "    messagebox.showinfo( \"Number plate color:\", output)\n",
    "\n",
    "# Create the main window\n",
    "root = tk.Tk()\n",
    "root.withdraw()  # Hide the root window\n",
    "\n",
    "# Show the alert box\n",
    "show_alert()\n",
    "\n",
    "# Close the program\n",
    "root.quit()"
   ]
  },
  {
   "cell_type": "code",
   "execution_count": null,
   "id": "35d02d15-3c42-4f60-a19a-88b04e76ee8f",
   "metadata": {},
   "outputs": [],
   "source": []
  }
 ],
 "metadata": {
  "kernelspec": {
   "display_name": "Python 3 (ipykernel)",
   "language": "python",
   "name": "python3"
  },
  "language_info": {
   "codemirror_mode": {
    "name": "ipython",
    "version": 3
   },
   "file_extension": ".py",
   "mimetype": "text/x-python",
   "name": "python",
   "nbconvert_exporter": "python",
   "pygments_lexer": "ipython3",
   "version": "3.11.5"
  }
 },
 "nbformat": 4,
 "nbformat_minor": 5
}
